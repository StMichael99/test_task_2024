{
 "cells": [
  {
   "cell_type": "code",
   "execution_count": 3,
   "id": "e85967a0-ed89-40ba-8bfa-5943e3da40e1",
   "metadata": {
    "tags": []
   },
   "outputs": [],
   "source": [
    "import pandas as pd\n",
    "from tqdm.notebook import tqdm\n",
    "from IPython.display import clear_output\n",
    "import requests\n",
    "from time import sleep"
   ]
  },
  {
   "cell_type": "code",
   "execution_count": 2,
   "id": "5a385593-e9df-4485-9237-55be90c5351d",
   "metadata": {
    "tags": []
   },
   "outputs": [],
   "source": [
    "# !pip install ipywidgets"
   ]
  },
  {
   "cell_type": "code",
   "execution_count": 18,
   "id": "5b53654a-a28e-47fa-841a-130cf21b0594",
   "metadata": {
    "tags": []
   },
   "outputs": [],
   "source": [
    "page_size = 50\n",
    "\n",
    "copytrader_trades_url = 'https://www.binance.info/bapi/futures/v1/public/future/copy-trade/lead-portfolio/trade-history'\n",
    "copytrader_positions_url = 'https://www.binance.info/bapi/futures/v1/public/future/copy-trade/lead-portfolio/position-history'\n",
    "\n",
    "\n",
    "def get_copytrades_data(porfolio_id, max_items, url):\n",
    "    results = []\n",
    "    for i in tqdm(range(int(max_items / page_size))):\n",
    "        payload = {\n",
    "            'pageNumber': i + 1,\n",
    "            'pageSize': page_size,\n",
    "            'portfolioId': porfolio_id\n",
    "            \n",
    "        }\n",
    "        result = requests.post(url, json=payload)\n",
    "        results.extend(result.json()['data']['list'])\n",
    "        sleep(2)\n",
    "    data = pd.DataFrame(results)\n",
    "    return data.reset_index(drop=True) \n",
    "\n",
    "\n",
    "def get_copytrader_trades(porfolio_id, max_trades):\n",
    "    return get_copytrades_data(porfolio_id, max_trades, copytrader_trades_url)\n",
    "\n",
    "\n",
    "def get_copytrader_positions(porfolio_id, max_positions):\n",
    "    return get_copytrades_data(porfolio_id, max_positions, copytrader_positions_url)"
   ]
  },
  {
   "cell_type": "code",
   "execution_count": 20,
   "id": "b51b87c2-32fb-4092-95ea-bad0cd269fa0",
   "metadata": {},
   "outputs": [
    {
     "data": {
      "application/vnd.jupyter.widget-view+json": {
       "model_id": "eed3e2c3a88a4640bc4355d23e41d8c1",
       "version_major": 2,
       "version_minor": 0
      },
      "text/plain": [
       "  0%|          | 0/38 [00:00<?, ?it/s]"
      ]
     },
     "metadata": {},
     "output_type": "display_data"
    }
   ],
   "source": [
    "# https://www.binance.com/en/copy-trading/lead-details/3838699803249970688\n",
    "copy_trader = 3838699803249970688\n",
    "\n",
    "copytrader_trades = get_copytrader_trades(copy_trader, 10 * 495)\n",
    "copytrader_trades.to_csv(f'copytrader_data/trades_{copy_trader}.csv')\n",
    "\n",
    "copytrader_trades = get_copytrader_positions(copy_trader, 10 * 190)\n",
    "copytrader_trades.to_csv(f'copytrader_data/positions_{copy_trader}.csv')\n"
   ]
  },
  {
   "cell_type": "code",
   "execution_count": 21,
   "id": "1e7fd2e4-263c-418f-8a83-4e13b358cfdc",
   "metadata": {
    "tags": []
   },
   "outputs": [
    {
     "data": {
      "application/vnd.jupyter.widget-view+json": {
       "model_id": "a3e36f01127943fd9ce76bc0158c4a62",
       "version_major": 2,
       "version_minor": 0
      },
      "text/plain": [
       "  0%|          | 0/112 [00:00<?, ?it/s]"
      ]
     },
     "metadata": {},
     "output_type": "display_data"
    },
    {
     "data": {
      "application/vnd.jupyter.widget-view+json": {
       "model_id": "979aef89e6ed40b79478fac661fc788f",
       "version_major": 2,
       "version_minor": 0
      },
      "text/plain": [
       "  0%|          | 0/49 [00:00<?, ?it/s]"
      ]
     },
     "metadata": {},
     "output_type": "display_data"
    }
   ],
   "source": [
    "# https://www.binance.com/en/copy-trading/lead-details/3871399360910422273\n",
    "copy_trader = 3871399360910422273\n",
    "\n",
    "copytrader_trades = get_copytrader_trades(copy_trader, 10 * 560)\n",
    "copytrader_trades.to_csv(f'copytrader_data/trades_{copy_trader}.csv')\n",
    "\n",
    "copytrader_trades = get_copytrader_positions(copy_trader, 10 * 245)\n",
    "copytrader_trades.to_csv(f'copytrader_data/positions_{copy_trader}.csv')"
   ]
  },
  {
   "cell_type": "code",
   "execution_count": null,
   "id": "70eb9ab1-3da7-47a5-8d3f-84fb0c371855",
   "metadata": {},
   "outputs": [],
   "source": []
  }
 ],
 "metadata": {
  "kernelspec": {
   "display_name": "Python 3 (ipykernel)",
   "language": "python",
   "name": "python3"
  },
  "language_info": {
   "codemirror_mode": {
    "name": "ipython",
    "version": 3
   },
   "file_extension": ".py",
   "mimetype": "text/x-python",
   "name": "python",
   "nbconvert_exporter": "python",
   "pygments_lexer": "ipython3",
   "version": "3.11.1"
  }
 },
 "nbformat": 4,
 "nbformat_minor": 5
}
